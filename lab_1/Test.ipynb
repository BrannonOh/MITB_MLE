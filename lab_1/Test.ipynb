{
 "cells": [
  {
   "cell_type": "markdown",
   "id": "2dd1551d-a4ea-47e0-8052-5f005cecea38",
   "metadata": {},
   "source": [
    "Test to see if the data persists. Written on 25/04/25 at 17:00.\n"
   ]
  },
  {
   "cell_type": "code",
   "execution_count": null,
   "id": "35ebf296-c77c-412c-aa60-414030541890",
   "metadata": {},
   "outputs": [],
   "source": []
  }
 ],
 "metadata": {
  "kernelspec": {
   "display_name": "Python 3 (ipykernel)",
   "language": "python",
   "name": "python3"
  },
  "language_info": {
   "codemirror_mode": {
    "name": "ipython",
    "version": 3
   },
   "file_extension": ".py",
   "mimetype": "text/x-python",
   "name": "python",
   "nbconvert_exporter": "python",
   "pygments_lexer": "ipython3",
   "version": "3.12.10"
  }
 },
 "nbformat": 4,
 "nbformat_minor": 5
}
